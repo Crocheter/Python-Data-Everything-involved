{
 "cells": [
  {
   "cell_type": "markdown",
   "metadata": {
    "id": "gEIrWxN-jOzu"
   },
   "source": [
    "# Streamlit Project\n",
    "For this Streamlit project, you’ll replicate a user interface using Streamlit. This exercise will assess your ability to create interactive web applications for data visualization and presentation. Make sure to pay attention to layout, responsiveness, and interactivity as you replicate the UI. If you find this challenging, revisit the Streamlit documentation , tutorials, and examples provided during our class and feel free to ask questions if you have any.\n",
    "\n",
    "This project is a hands-on way to demonstrate your proficiency in building engaging and functional data apps."
   ]
  },
  {
   "cell_type": "markdown",
   "metadata": {
    "id": "Cz2cMVZ4jOzw"
   },
   "source": [
    "### **Question:**\n",
    "\n",
    "You are building a Streamlit app where users can input student names and their scores, and then filter students based on a minimum score. The application should allow users to:\n",
    "\n",
    "1. Input student data (name and score).\n",
    "2. Store the data and display a table with the student names and their scores.\n",
    "3. Filter the student data based on a minimum score provided by the user.\n",
    "\n",
    "Answer the following questions and complete the tasks:\n",
    "\n",
    "1. **Task 1:** Implement a Streamlit app where the user can input student names and scores, store the data, and display it in a table. Use an input box for the name and a number input for the score. Ensure the list of students is stored persistently using `st.session_state`.\n",
    "\n",
    "2. **Task 2:** Add a slider that allows users to filter students by a minimum score. The table should only display students who meet the minimum score criterion.\n",
    "\n",
    "---\n",
    "\n",
    "### **Hints:**\n",
    "\n",
    "1. **Adding Student Data:**\n",
    "   - Use `st.text_input` for the student's name and `st.number_input` for the score.\n",
    "   - Use `st.session_state` to store the student data so it persists when you refresh the page.\n",
    "   - You can use the `st.button` function to trigger the action of adding the student to the list.\n",
    "   \n",
    "   **Hint for Task 1:**\n",
    "   - Check if `st.session_state.students` is initialized. If not, initialize it as an empty list.\n",
    "   - When the user presses the \"Add Student\" button, append the student’s name and score to the list in `st.session_state.students`.\n",
    "\n",
    "2. **Displaying Data:**\n",
    "   - After adding students, use `pd.DataFrame` to convert the list of students into a table and display it using `st.write`.\n",
    "\n",
    "   **Hint for Task 2:**\n",
    "   - After the students are displayed, use a slider (`st.slider`) to allow the user to filter students by score.\n",
    "   - Use pandas DataFrame filtering to display only the students who meet the minimum score threshold set by the slider.\n",
    "\n",
    "3. **Persistent Data with `st.session_state`:**\n",
    "   - `st.session_state` helps in maintaining the state of the application even after it is reloaded. It is important when storing user input persistently.\n",
    "   - Initialize `st.session_state.students` if it’s not already initialized to store student data.\n",
    "\n",
    "---\n",
    "### **Image Folder Preview:**\n",
    "\n",
    "There is an image folder called `image` that displays how the site would look like. Below is the preview for each section:\n",
    "\n",
    "1. **student tracker landing page image:**\n",
    "   - This image shows how the landing page should appear when you first visit the app.\n",
    "\n",
    "2. **adding user input image:**\n",
    "   - This image shows how the user input fields should look like for adding the student data.\n",
    "\n",
    "3. **user input image:**\n",
    "   - This image shows how the form will look after the user enters their data.\n",
    "\n",
    "4. **add new student image:**\n",
    "   - This image shows how the page should look after a new student is successfully added.\n",
    "\n",
    "\n",
    "\n",
    "This will test your ability to work with user inputs, data storage, and basic filtering techniques in Streamlit.\n",
    "Go ahead to create your python application and start building!\n"
   ]
  },
  {
   "cell_type": "code",
   "execution_count": null,
   "metadata": {},
   "outputs": [
    {
     "name": "stdout",
     "output_type": "stream",
     "text": [
      "Requirement already satisfied: streamlit in c:\\users\\abisola\\anaconda3\\lib\\site-packages (1.37.1)\n",
      "Requirement already satisfied: altair<6,>=4.0 in c:\\users\\abisola\\anaconda3\\lib\\site-packages (from streamlit) (5.0.1)\n",
      "Requirement already satisfied: blinker<2,>=1.0.0 in c:\\users\\abisola\\anaconda3\\lib\\site-packages (from streamlit) (1.6.2)\n",
      "Requirement already satisfied: cachetools<6,>=4.0 in c:\\users\\abisola\\anaconda3\\lib\\site-packages (from streamlit) (5.3.3)\n",
      "Requirement already satisfied: click<9,>=7.0 in c:\\users\\abisola\\anaconda3\\lib\\site-packages (from streamlit) (8.1.7)\n",
      "Requirement already satisfied: numpy<3,>=1.20 in c:\\users\\abisola\\anaconda3\\lib\\site-packages (from streamlit) (1.26.4)\n",
      "Requirement already satisfied: packaging<25,>=20 in c:\\users\\abisola\\anaconda3\\lib\\site-packages (from streamlit) (24.1)\n",
      "Requirement already satisfied: pandas<3,>=1.3.0 in c:\\users\\abisola\\anaconda3\\lib\\site-packages (from streamlit) (2.2.2)\n",
      "Requirement already satisfied: pillow<11,>=7.1.0 in c:\\users\\abisola\\anaconda3\\lib\\site-packages (from streamlit) (10.4.0)\n",
      "Requirement already satisfied: protobuf<6,>=3.20 in c:\\users\\abisola\\anaconda3\\lib\\site-packages (from streamlit) (4.25.3)\n",
      "Requirement already satisfied: pyarrow>=7.0 in c:\\users\\abisola\\anaconda3\\lib\\site-packages (from streamlit) (16.1.0)\n",
      "Requirement already satisfied: requests<3,>=2.27 in c:\\users\\abisola\\anaconda3\\lib\\site-packages (from streamlit) (2.32.3)\n",
      "Requirement already satisfied: rich<14,>=10.14.0 in c:\\users\\abisola\\anaconda3\\lib\\site-packages (from streamlit) (13.7.1)\n",
      "Requirement already satisfied: tenacity<9,>=8.1.0 in c:\\users\\abisola\\anaconda3\\lib\\site-packages (from streamlit) (8.2.3)\n",
      "Requirement already satisfied: toml<2,>=0.10.1 in c:\\users\\abisola\\anaconda3\\lib\\site-packages (from streamlit) (0.10.2)\n",
      "Requirement already satisfied: typing-extensions<5,>=4.3.0 in c:\\users\\abisola\\anaconda3\\lib\\site-packages (from streamlit) (4.11.0)\n",
      "Requirement already satisfied: gitpython!=3.1.19,<4,>=3.0.7 in c:\\users\\abisola\\anaconda3\\lib\\site-packages (from streamlit) (3.1.43)\n",
      "Requirement already satisfied: pydeck<1,>=0.8.0b4 in c:\\users\\abisola\\anaconda3\\lib\\site-packages (from streamlit) (0.8.0)\n",
      "Requirement already satisfied: tornado<7,>=6.0.3 in c:\\users\\abisola\\anaconda3\\lib\\site-packages (from streamlit) (6.4.1)\n",
      "Requirement already satisfied: watchdog<5,>=2.1.5 in c:\\users\\abisola\\anaconda3\\lib\\site-packages (from streamlit) (4.0.1)\n",
      "Requirement already satisfied: jinja2 in c:\\users\\abisola\\anaconda3\\lib\\site-packages (from altair<6,>=4.0->streamlit) (3.1.4)\n",
      "Requirement already satisfied: jsonschema>=3.0 in c:\\users\\abisola\\anaconda3\\lib\\site-packages (from altair<6,>=4.0->streamlit) (4.23.0)\n",
      "Requirement already satisfied: toolz in c:\\users\\abisola\\anaconda3\\lib\\site-packages (from altair<6,>=4.0->streamlit) (0.12.0)\n",
      "Requirement already satisfied: colorama in c:\\users\\abisola\\anaconda3\\lib\\site-packages (from click<9,>=7.0->streamlit) (0.4.6)\n",
      "Requirement already satisfied: gitdb<5,>=4.0.1 in c:\\users\\abisola\\anaconda3\\lib\\site-packages (from gitpython!=3.1.19,<4,>=3.0.7->streamlit) (4.0.7)\n",
      "Requirement already satisfied: python-dateutil>=2.8.2 in c:\\users\\abisola\\anaconda3\\lib\\site-packages (from pandas<3,>=1.3.0->streamlit) (2.9.0.post0)\n",
      "Requirement already satisfied: pytz>=2020.1 in c:\\users\\abisola\\anaconda3\\lib\\site-packages (from pandas<3,>=1.3.0->streamlit) (2024.1)\n",
      "Requirement already satisfied: tzdata>=2022.7 in c:\\users\\abisola\\anaconda3\\lib\\site-packages (from pandas<3,>=1.3.0->streamlit) (2023.3)\n",
      "Requirement already satisfied: charset-normalizer<4,>=2 in c:\\users\\abisola\\anaconda3\\lib\\site-packages (from requests<3,>=2.27->streamlit) (3.3.2)\n",
      "Requirement already satisfied: idna<4,>=2.5 in c:\\users\\abisola\\anaconda3\\lib\\site-packages (from requests<3,>=2.27->streamlit) (3.7)\n",
      "Requirement already satisfied: urllib3<3,>=1.21.1 in c:\\users\\abisola\\anaconda3\\lib\\site-packages (from requests<3,>=2.27->streamlit) (2.2.3)\n",
      "Requirement already satisfied: certifi>=2017.4.17 in c:\\users\\abisola\\anaconda3\\lib\\site-packages (from requests<3,>=2.27->streamlit) (2024.8.30)\n",
      "Requirement already satisfied: markdown-it-py>=2.2.0 in c:\\users\\abisola\\anaconda3\\lib\\site-packages (from rich<14,>=10.14.0->streamlit) (2.2.0)\n",
      "Requirement already satisfied: pygments<3.0.0,>=2.13.0 in c:\\users\\abisola\\anaconda3\\lib\\site-packages (from rich<14,>=10.14.0->streamlit) (2.15.1)\n",
      "Requirement already satisfied: smmap<5,>=3.0.1 in c:\\users\\abisola\\anaconda3\\lib\\site-packages (from gitdb<5,>=4.0.1->gitpython!=3.1.19,<4,>=3.0.7->streamlit) (4.0.0)\n",
      "Requirement already satisfied: MarkupSafe>=2.0 in c:\\users\\abisola\\anaconda3\\lib\\site-packages (from jinja2->altair<6,>=4.0->streamlit) (2.1.3)\n",
      "Requirement already satisfied: attrs>=22.2.0 in c:\\users\\abisola\\anaconda3\\lib\\site-packages (from jsonschema>=3.0->altair<6,>=4.0->streamlit) (23.1.0)\n",
      "Requirement already satisfied: jsonschema-specifications>=2023.03.6 in c:\\users\\abisola\\anaconda3\\lib\\site-packages (from jsonschema>=3.0->altair<6,>=4.0->streamlit) (2023.7.1)\n",
      "Requirement already satisfied: referencing>=0.28.4 in c:\\users\\abisola\\anaconda3\\lib\\site-packages (from jsonschema>=3.0->altair<6,>=4.0->streamlit) (0.30.2)\n",
      "Requirement already satisfied: rpds-py>=0.7.1 in c:\\users\\abisola\\anaconda3\\lib\\site-packages (from jsonschema>=3.0->altair<6,>=4.0->streamlit) (0.10.6)\n",
      "Requirement already satisfied: mdurl~=0.1 in c:\\users\\abisola\\anaconda3\\lib\\site-packages (from markdown-it-py>=2.2.0->rich<14,>=10.14.0->streamlit) (0.1.0)\n",
      "Requirement already satisfied: six>=1.5 in c:\\users\\abisola\\anaconda3\\lib\\site-packages (from python-dateutil>=2.8.2->pandas<3,>=1.3.0->streamlit) (1.16.0)\n",
      "Note: you may need to restart the kernel to use updated packages.\n"
     ]
    }
   ],
   "source": [
    "import streamlit as st \n"
   ]
  }
 ],
 "metadata": {
  "colab": {
   "provenance": []
  },
  "kernelspec": {
   "display_name": "base",
   "language": "python",
   "name": "python3"
  },
  "language_info": {
   "codemirror_mode": {
    "name": "ipython",
    "version": 3
   },
   "file_extension": ".py",
   "mimetype": "text/x-python",
   "name": "python",
   "nbconvert_exporter": "python",
   "pygments_lexer": "ipython3",
   "version": "3.12.7"
  }
 },
 "nbformat": 4,
 "nbformat_minor": 0
}
